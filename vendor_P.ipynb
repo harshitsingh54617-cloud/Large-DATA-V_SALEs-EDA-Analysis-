{
 "cells": [
  {
   "cell_type": "code",
   "execution_count": 1,
   "id": "029f70e9-78aa-4c31-9d11-410c26e2ba4b",
   "metadata": {},
   "outputs": [],
   "source": [
    "import pandas as pd \n",
    "import os \n",
    "from sqlalchemy import create_engine\n",
    "import logging\n",
    "import time\n",
    "\n",
    "logging.basicConfig(\n",
    "    filename = \"logs/ingestion_db.log\",\n",
    "    level = logging.DEBUG,\n",
    "    format = \"%(asctime)s - %(levelname)s - %(message)s\",\n",
    "    filemode = \"a\"\n",
    "\n",
    ")\n",
    "\n",
    "engine = create_engine('sqlite:///inventory.db')\n",
    "\n",
    "def ingest_db(df , table_name , engine):\n",
    "    ''' This Function will load the CSVs as dataframe into database table'''\n",
    "    df.to_sql(table_name , con = engine , if_exists = 'replace' , index = False )\n",
    "    \n",
    "def load_raw_data():\n",
    "    ''' This Function will load the CSVs as data frame and ingest into db'''\n",
    "    start = time.time()\n",
    "    for file in os.listdir('vendor_data'):\n",
    "        if '.csv' in file:\n",
    "            df = pd.read_csv('vendor_data/'+file)\n",
    "            logging.info(f'Ingesting {file} in db')\n",
    "            ingest_db(df , file[:-4] , engine)\n",
    "    end = time.time()\n",
    "    total_time = (end - start)/60\n",
    "    logging.info('--------------Ingestion Complete-------------')\n",
    "\n",
    "    logging.info(f'\\nTotal Time Taken : {total_time} minutes')\n",
    "\n",
    "if __name__ == '__main__':\n",
    "    load_raw_data()"
   ]
  },
  {
   "cell_type": "code",
   "execution_count": 2,
   "id": "32c23985-4bb9-4d1e-b3a7-0c991cb5d7ac",
   "metadata": {},
   "outputs": [],
   "source": []
  },
  {
   "cell_type": "code",
   "execution_count": 8,
   "id": "b63c6cec-9e22-450f-9d18-fddd9d86e352",
   "metadata": {},
   "outputs": [],
   "source": []
  },
  {
   "cell_type": "code",
   "execution_count": null,
   "id": "ab98e352-4a3a-443d-960b-a3826862a635",
   "metadata": {},
   "outputs": [],
   "source": []
  }
 ],
 "metadata": {
  "kernelspec": {
   "display_name": "Python 3 (ipykernel)",
   "language": "python",
   "name": "python3"
  },
  "language_info": {
   "codemirror_mode": {
    "name": "ipython",
    "version": 3
   },
   "file_extension": ".py",
   "mimetype": "text/x-python",
   "name": "python",
   "nbconvert_exporter": "python",
   "pygments_lexer": "ipython3",
   "version": "3.11.7"
  }
 },
 "nbformat": 4,
 "nbformat_minor": 5
}
